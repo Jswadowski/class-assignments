{
 "cells": [
  {
   "cell_type": "code",
   "execution_count": 47,
   "metadata": {
    "collapsed": false
   },
   "outputs": [
    {
     "ename": "SyntaxError",
     "evalue": "unexpected EOF while parsing (<ipython-input-47-df1fd6d90069>, line 10)",
     "output_type": "error",
     "traceback": [
      "\u001b[0;36m  File \u001b[0;32m\"<ipython-input-47-df1fd6d90069>\"\u001b[0;36m, line \u001b[0;32m10\u001b[0m\n\u001b[0;31m    #print(\"Species \" + str(Q) +  \" belongs to Family \"  + str(nature_birds[Q]))\u001b[0m\n\u001b[0m                                                                                ^\u001b[0m\n\u001b[0;31mSyntaxError\u001b[0m\u001b[0;31m:\u001b[0m unexpected EOF while parsing\n"
     ]
    }
   ],
   "source": [
    "nature_birds = {}\n",
    "ff = open(\"formatted.nature.csv\", \"r\", encoding = \"ISO-8859-15\")\n",
    "ss = ff.readlines()[1:]   #each row is an element in a list, [1:] excludes the headers\n",
    "for line in ss:  #populating nature_birds directory\n",
    "    sp = line.split(\",\")[0]\n",
    "    fam = line.split(\",\")[2]\n",
    "    nature_birds[sp] = fam\n",
    "    ff.close()\n",
    "for Q in nature_birds:\n",
    "    #print(\"Species \" + str(Q) +  \" belongs to Family \"  + str(nature_birds[Q]))"
   ]
  },
  {
   "cell_type": "code",
   "execution_count": 39,
   "metadata": {
    "collapsed": false
   },
   "outputs": [],
   "source": [
    "#same as above, but as a function\n",
    "def makeBirdDict(filename):  \n",
    "    #this function opens the data file from Thomas et al and extracts the data as a dictionary\n",
    "    birdDict = {}\n",
    "    fobj = open(filename,\"r\", encoding = \"ISO-8859-15\")  #open the file\n",
    "    all_records = fobj.readlines()[1:] #read the file, where all_records creates and stores the list\n",
    "    for line in all_records:    #loop over lines in the list all_records\n",
    "        species = line.split(\",\")[0]  #split lines on comma, and it produces a new list\n",
    "        family = line.split(\",\")[2]\n",
    "        birdDict[species] = family  #stick species and family into birdDict\n",
    "    \n",
    "    return birdDict"
   ]
  },
  {
   "cell_type": "code",
   "execution_count": 44,
   "metadata": {
    "collapsed": false
   },
   "outputs": [
    {
     "name": "stdout",
     "output_type": "stream",
     "text": [
      "Abeillia_abeillei Trochilidae\n",
      "family of Abeillia_abeillei is Trochilidae\n"
     ]
    }
   ],
   "source": [
    "birds = makeBirdDict(\"formatted.nature.csv\")#call the function, pass it the filename\n",
    "species = list(birds.keys())  #makes a list of the species\n",
    "species.sort()#internally sorts elements of the list\n",
    "first_species = species[1]\n",
    "first_fam = birds[first_species]\n",
    "print( first_species, first_fam)\n",
    "print(\"family of \" + species[1] + \" is \" + birds[species[1]])"
   ]
  },
  {
   "cell_type": "code",
   "execution_count": 59,
   "metadata": {
    "collapsed": false
   },
   "outputs": [
    {
     "ename": "SyntaxError",
     "evalue": "unexpected EOF while parsing (<ipython-input-59-d9e919db1d78>, line 6)",
     "output_type": "error",
     "traceback": [
      "\u001b[0;36m  File \u001b[0;32m\"<ipython-input-59-d9e919db1d78>\"\u001b[0;36m, line \u001b[0;32m6\u001b[0m\n\u001b[0;31m    # print(pair)\u001b[0m\n\u001b[0m                 ^\u001b[0m\n\u001b[0;31mSyntaxError\u001b[0m\u001b[0;31m:\u001b[0m unexpected EOF while parsing\n"
     ]
    }
   ],
   "source": [
    "#get the family of the species\n",
    "for species in birds.keys():\n",
    "    fam = birds[species]\n",
    "    #print(species, fam)\n",
    "#print key value pairs\n",
    "for pair in birds.items():\n",
    "    #print(pair)"
   ]
  },
  {
   "cell_type": "code",
   "execution_count": 79,
   "metadata": {
    "collapsed": false
   },
   "outputs": [],
   "source": [
    "def outOfOrder(number, pet): \n",
    "    print(\"I own {} {}s\".format(number, pet))"
   ]
  },
  {
   "cell_type": "code",
   "execution_count": 77,
   "metadata": {
    "collapsed": false
   },
   "outputs": [
    {
     "name": "stdout",
     "output_type": "stream",
     "text": [
      "I own 3 dogs\n"
     ]
    }
   ],
   "source": [
    "outOfOrder(3, \"dog\")"
   ]
  },
  {
   "cell_type": "code",
   "execution_count": 78,
   "metadata": {
    "collapsed": false
   },
   "outputs": [
    {
     "name": "stdout",
     "output_type": "stream",
     "text": [
      "I own dog 3s\n"
     ]
    }
   ],
   "source": [
    "outOfOrder(\"dog\", 3)\n"
   ]
  },
  {
   "cell_type": "code",
   "execution_count": null,
   "metadata": {
    "collapsed": true
   },
   "outputs": [],
   "source": []
  }
 ],
 "metadata": {
  "anaconda-cloud": {},
  "kernelspec": {
   "display_name": "Python [default]",
   "language": "python",
   "name": "python3"
  },
  "language_info": {
   "codemirror_mode": {
    "name": "ipython",
    "version": 3
   },
   "file_extension": ".py",
   "mimetype": "text/x-python",
   "name": "python",
   "nbconvert_exporter": "python",
   "pygments_lexer": "ipython3",
   "version": "3.5.2"
  }
 },
 "nbformat": 4,
 "nbformat_minor": 2
}
