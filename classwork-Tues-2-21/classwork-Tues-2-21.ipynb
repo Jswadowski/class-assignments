{
 "cells": [
  {
   "cell_type": "markdown",
   "metadata": {
    "collapsed": true
   },
   "source": [
    "Use \n",
    "```\n",
    "wget http://ctfs.si.edu/webatlas/datasets/cocoli/cocoli.zip \n",
    "```     \n",
    "to download the folder, and \n",
    "```\n",
    "unzip cocoli.zip\n",
    "```    \n",
    "to unzip the folder and retrieve the files."
   ]
  },
  {
   "cell_type": "markdown",
   "metadata": {},
   "source": [
    "## What does each row in cocoli.txt represent?\n",
    "**answer**: a single record containing a species code (1st column) and other categories.\n",
    "## What does each row in cocolisp.txt represent?\n",
    "**answer**: given the species code, we will know the Family name, Genus, and Species.\n",
    "```\n",
    "000011\tCAL2CA\t4.0\t13.2\t69\t69\t65\tA\tA\tA\t1\t1\t1\tML\tML\tM\t7\t4\t4\t11/02/1994\t11/11/1997\t11/23/1998\n",
    "```  \n",
    "## What does the entry in the column multi2 refer to?\n",
    "**answer**: (4) the number of stems the individual has from the second census date. \n",
    "```\n",
    "000011\t69\n",
    "000011\t39\n",
    "000011\t20\n",
    "000011\t14\n",
    "```  \n",
    "## What does the entry in the column dbh2 refer to?\n",
    "**answer**: (69) the diameter and height of the individual from the data at census 2\n",
    "## How can we find the genus and species name of this record?\n",
    "**answer**:\n",
    "```\n",
    "grep CAL2CA cocolisp.txt\n",
    "```\n",
    "## What is the genus and spcies name of this record?\n",
    "**answer**:\n",
    "```\n",
    "CAL2CA\tCalycophyllum\tcandidissimum\tRubiaceae\n",
    "```  \n",
    "\n",
    "## Questions that can be answered:\n",
    "Is there variation in growth rate across the plot, i.e. do plants grow better on wetter or drier side between 1994 and 1997 even on drought year it it didnt do very well?\n",
    "What genus/species has the highest rate of growth?\n",
    "\n",
    "## Which genus is the most species-rich in this community?\n",
    "**answer**: Piper\n",
    "```\n",
    "sed 's/\\s/,/g' cocolisp.txt | cut -d ',' -f 2 | sort | uniq -c | sort -n\n",
    "```\n",
    "\n",
    "## How many genera have just one species represented in this community?\n",
    "**answer**: 127 total, but 99 have only one representitive. \n",
    "```\n",
    "sed 's/\\s/,/g' cocolisp.txt | cut -d ',' -f 2 | sort | uniq -c | sort -n | grep -w \"1\" | wc -l\n",
    "```\n",
    "\n",
    "## This community has only one species in the family Bignoniaceae. What is the name of this species? How many individuals of the species are in the community?\n",
    "**answer**: \n",
    "grep for Bignoniaceae, grep for code"
   ]
  },
  {
   "cell_type": "code",
   "execution_count": null,
   "metadata": {
    "collapsed": true
   },
   "outputs": [],
   "source": []
  }
 ],
 "metadata": {
  "anaconda-cloud": {},
  "kernelspec": {
   "display_name": "Python [default]",
   "language": "python",
   "name": "python3"
  },
  "language_info": {
   "codemirror_mode": {
    "name": "ipython",
    "version": 3
   },
   "file_extension": ".py",
   "mimetype": "text/x-python",
   "name": "python",
   "nbconvert_exporter": "python",
   "pygments_lexer": "ipython3",
   "version": "3.5.2"
  }
 },
 "nbformat": 4,
 "nbformat_minor": 2
}
