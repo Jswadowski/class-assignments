{
 "cells": [
  {
   "cell_type": "markdown",
   "metadata": {},
   "source": [
    "Aditya Kantawala: I was a little too late this morning, missed this presentation :/\n",
    "\n",
    "Justin Shieh:  Is it possible to test brain size vs rate of survival?\n",
    "\n",
    "Sarah Kim:  How does glaciation that you mentioned affect diversity of the Canids?\n",
    "\n",
    "Christina Zhou:  Can you overlay your graph of observed species abundance onto the first graph you showed ofgeographical distribution?\n",
    "\n",
    "Gayane Hovsepyan:  Very nice presentation, great original idea. It would be beneficial to add a key denoting what the colors indicate on the overlay histograms.\n",
    "\n",
    "Roxana Nojoumi:  Impressively complete presentation and analysis. You should combine the horse and plant plots for comparison.\n",
    "\n",
    "Cooper Kass:  What is the distribution like of the invasive species?\n",
    "\n",
    "Jeffrey Lee:  It would be beneficial to add PyRate data.\n",
    "\n",
    "Laura Trejo:  What are the drivers for the bird's restriction to the tropical region?\n",
    "\n",
    "Jin Kim:  Why do you think there is such a narrow range of distribution despite those two species' long fossil record?\n",
    "\n",
    "Marina Salama:  What do the modern extinctions mean in the context of the historical extinctions? Fossil availability may be a limiting factor to answer this.\n",
    "\n",
    "Erin Solis:  What impacted the strong net negative diversification event?\n",
    "\n",
    "Sean Mathew:  Very good analysis and corresponding plots.\n",
    "\n",
    "Tiffany Dang:  What factors allowed the species survival and adaptive radiation?"
   ]
  },
  {
   "cell_type": "code",
   "execution_count": null,
   "metadata": {
    "collapsed": true
   },
   "outputs": [],
   "source": []
  }
 ],
 "metadata": {
  "anaconda-cloud": {},
  "kernelspec": {
   "display_name": "Python [default]",
   "language": "python",
   "name": "python3"
  },
  "language_info": {
   "codemirror_mode": {
    "name": "ipython",
    "version": 3
   },
   "file_extension": ".py",
   "mimetype": "text/x-python",
   "name": "python",
   "nbconvert_exporter": "python",
   "pygments_lexer": "ipython3",
   "version": "3.5.2"
  }
 },
 "nbformat": 4,
 "nbformat_minor": 2
}
