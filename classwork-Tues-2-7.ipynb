{
 "cells": [
  {
   "cell_type": "markdown",
   "metadata": {},
   "source": [
    "# Defining a programming challenge\n",
    "**Example**: Write a program that asks the user for a temperature in Fahrenheit and prints out the same temperature in Celcius"
   ]
  },
  {
   "cell_type": "markdown",
   "metadata": {},
   "source": [
    "xx = user input of a temp in F    \n",
    "yy = convert xx to C    \n",
    "print yy"
   ]
  },
  {
   "cell_type": "code",
   "execution_count": null,
   "metadata": {
    "collapsed": false
   },
   "outputs": [],
   "source": [
    "temp = input(\"what is the temperature in Fahrenheit?\")\n",
    "cels = (float(temp) -32) * 5 / 9\n",
    "print(\"The temperature in C is ()*.format(cels)\")"
   ]
  },
  {
   "cell_type": "code",
   "execution_count": 45,
   "metadata": {
    "collapsed": false
   },
   "outputs": [
    {
     "name": "stdout",
     "output_type": "stream",
     "text": [
      "1\n",
      "1\n",
      "2\n",
      "3\n",
      "5\n",
      "8\n",
      "13\n"
     ]
    }
   ],
   "source": [
    "a = [1, 1, 2, 3, 5, 8]\n",
    "#Extract [5,8] in two different ways\n",
    "a[4:]\n",
    "a[:]\n",
    "#add the element 13 at the end of the list\n",
    "a.append(13)\n",
    "for item in a:\n",
    "    print(item)\n",
    "#reverse the list\n",
    "a.reverse()\n",
    "#Define a dictionary m = {'a': '.-', 'b': \"-...-\", 'c': '-.-.')}\n",
    "#add the element 'd':'-..'\n",
    "#update the value 'b':'-...'\n"
   ]
  },
  {
   "cell_type": "code",
   "execution_count": 37,
   "metadata": {
    "collapsed": false
   },
   "outputs": [
    {
     "data": {
      "text/plain": [
       "{'brother1': 'Jonathan', 'brother2': 'Ben', 'dad': 'Stephen', 'mom': 'Evelyn'}"
      ]
     },
     "execution_count": 37,
     "metadata": {},
     "output_type": "execute_result"
    }
   ],
   "source": [
    "#example of creating a dictionary\n",
    "fam_dict = {'mom': 'Evelyn', 'dad': 'Stephen', 'brother1': 'Jonathan'}\n",
    "fam_dict[\"brother2\"] = \"Ben\"\n",
    "fam_dict"
   ]
  },
  {
   "cell_type": "code",
   "execution_count": 47,
   "metadata": {
    "collapsed": false
   },
   "outputs": [
    {
     "name": "stdout",
     "output_type": "stream",
     "text": [
      "Evelyn\n",
      "Stephen\n",
      "Ben\n",
      "Jonathan\n"
     ]
    }
   ],
   "source": [
    "for key in fam_dict.keys():\n",
    "    print(fam_dict[key])"
   ]
  },
  {
   "cell_type": "code",
   "execution_count": 50,
   "metadata": {
    "collapsed": false
   },
   "outputs": [
    {
     "name": "stdout",
     "output_type": "stream",
     "text": [
      "('mom', 'Evelyn')\n",
      "('dad', 'Stephen')\n",
      "('brother2', 'Ben')\n",
      "('brother1', 'Jonathan')\n"
     ]
    }
   ],
   "source": [
    "for pair in fam_dict.items():\n",
    "    print(pair)"
   ]
  },
  {
   "cell_type": "code",
   "execution_count": 51,
   "metadata": {
    "collapsed": false
   },
   "outputs": [
    {
     "name": "stdout",
     "output_type": "stream",
     "text": [
      "mom Evelyn\n",
      "dad Stephen\n",
      "brother2 Ben\n",
      "brother1 Jonathan\n"
     ]
    }
   ],
   "source": [
    "for key, value in fam_dict.items():     #assigning key to first item in key-value pair, and value to second item\n",
    "    print(key, value)"
   ]
  },
  {
   "cell_type": "code",
   "execution_count": 56,
   "metadata": {
    "collapsed": false
   },
   "outputs": [
    {
     "data": {
      "text/plain": [
       "'Evelyn'"
      ]
     },
     "execution_count": 56,
     "metadata": {},
     "output_type": "execute_result"
    }
   ],
   "source": [
    "list(fam_dict.items())[0][1]\n",
    "#items in dictionary are always key-value pairs"
   ]
  },
  {
   "cell_type": "code",
   "execution_count": 81,
   "metadata": {
    "collapsed": false
   },
   "outputs": [
    {
     "name": "stdout",
     "output_type": "stream",
     "text": [
      "['mom', 'dad', 'brother2', 'brother1']\n"
     ]
    }
   ],
   "source": [
    "#use a list to walk through family dictionary in reverse alphabetical order of the keys\n",
    "relatives = list(fam_dict.keys())\n",
    "relatives.sort(reverse=True)\n",
    "print(relatives)"
   ]
  },
  {
   "cell_type": "code",
   "execution_count": 84,
   "metadata": {
    "collapsed": false
   },
   "outputs": [
    {
     "name": "stdout",
     "output_type": "stream",
     "text": [
      "Evelyn\n",
      "Stephen\n",
      "Ben\n",
      "Jonathan\n"
     ]
    }
   ],
   "source": [
    "for rel in relatives:\n",
    "    print(fam_dict[rel])"
   ]
  },
  {
   "cell_type": "code",
   "execution_count": null,
   "metadata": {
    "collapsed": true
   },
   "outputs": [],
   "source": [
    "FoodWeb= [('a','b'),('a','c')]\n",
    "ss = FoodWeb[0]\n"
   ]
  }
 ],
 "metadata": {
  "anaconda-cloud": {},
  "kernelspec": {
   "display_name": "Python [default]",
   "language": "python",
   "name": "python3"
  }
 },
 "nbformat": 4,
 "nbformat_minor": 2
}
