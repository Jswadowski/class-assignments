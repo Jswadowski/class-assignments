{
 "cells": [
  {
   "cell_type": "markdown",
   "metadata": {},
   "source": [
    "## Read in canid range data. \n",
    "### for each species get uniques and stick them into a dictionary with the earliest and latest occurrence.  "
   ]
  },
  {
   "cell_type": "code",
   "execution_count": 22,
   "metadata": {
    "collapsed": false
   },
   "outputs": [],
   "source": [
    "data = open(\"/home/eeb177-student/Desktop/eeb-177/class-assignments/canids/cleaned_canids.csv\", encoding = \"ISO-8859-1\")\n",
    "\n",
    "infile = \"cleaned_canids.csv\"\n",
    "with open(infile,'r') as ff:\n",
    "    canid_recs = ff.readlines()[1:]\n",
    "\n",
    "import os\n",
    "from collections import defaultdict\n",
    "\n",
    "#make a dictionary\n",
    "species_ranges = defaultdict(list)\n",
    "    \n",
    "\n",
    "for line in canid_recs:     # each row is a list \n",
    "    species = line.split('\",\"')[5]   #give me line element 5\n",
    "    minage = line.split('\",\"')[10]   #splitting on the literal \",\" to get rid of them\n",
    "    maxage = line.split('\",\"')[11]\n",
    "    mean_age = (float(minage) + float(maxage))/2  \n",
    "    #print(mean_age)\n",
    "    \n",
    "    species_ranges[species].append(mean_age)   #add species as keys and mean ages as elements to the list of ages\n",
    "    #print(mean_age)"
   ]
  },
  {
   "cell_type": "markdown",
   "metadata": {},
   "source": [
    "### get oldest and youngest ages of fossils for each species in species_ranges"
   ]
  },
  {
   "cell_type": "code",
   "execution_count": 28,
   "metadata": {
    "collapsed": false
   },
   "outputs": [],
   "source": [
    "output = open(\"canid-ranges.csv\", \"w\")    #making an empty file\n",
    "\n",
    "\n",
    "for key in species_ranges.keys():\n",
    "    ages = species_ranges[key]\n",
    "    minage = min(ages)\n",
    "    maxage = max(ages)\n",
    "    genus = key.split(\" \")[0]\n",
    "    species = key\n",
    "    #print(genus, key, minage, maxage)\n",
    "    outline = \"{},{},{},{}\\n\".format(genus, species, minage, maxage)\n",
    "    #print(outline)\n",
    "    output.write(outline)\n",
    "    "
   ]
  },
  {
   "cell_type": "code",
   "execution_count": null,
   "metadata": {
    "collapsed": true
   },
   "outputs": [],
   "source": []
  }
 ],
 "metadata": {
  "anaconda-cloud": {},
  "kernelspec": {
   "display_name": "Python [default]",
   "language": "python",
   "name": "python3"
  },
  "language_info": {
   "codemirror_mode": {
    "name": "ipython",
    "version": 3
   },
   "file_extension": ".py",
   "mimetype": "text/x-python",
   "name": "python",
   "nbconvert_exporter": "python",
   "pygments_lexer": "ipython3",
   "version": "3.5.2"
  }
 },
 "nbformat": 4,
 "nbformat_minor": 2
}
