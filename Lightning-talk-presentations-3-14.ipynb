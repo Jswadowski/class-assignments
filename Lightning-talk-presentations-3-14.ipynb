{
 "cells": [
  {
   "cell_type": "markdown",
   "metadata": {},
   "source": [
    "Kelsey Jiang: Very prepared. Good effort using PyRate. What trends were observed when analyzing them?\n",
    "\n",
    "Dominique Castro: Why does the y axis only display 19 genus and species?\n",
    "\n",
    "Linna Sun: Very nice maps. But what was the inspiration for choosing *Proboscidea*? \n",
    "\n",
    "Ashen Parikh: Interesting topic of study. What accounts for the greater spread of decision time in the US?\n",
    "\n",
    "Matthew Muia: Genes vs. environmental plasticity, cool. What information will the bootstrapping test provide?\n",
    "\n",
    "Antonella Gonzalez: Why do you suspect more species diversity before? (I can't see the x axis time label).\n",
    "\n",
    "Yee Chau: What is the significance of the extinction events described?\n",
    "\n",
    "Kristen Lee: Impressive set of map plots. What were the drivers of movement north?\n",
    "\n",
    "Madison Downing: Do you think the interaction of mammals and birds is a function of their geographical location?\n",
    "\n",
    "Youstina Salama: What is the significance of the divergence of Haplorhini?\n",
    "\n",
    "Mehdi Nojoumi: How were the species per order chosen?\n",
    "\n",
    "Junghoon Kim: What is your conclusion?? What was the significance of the roach locomotion and light wavelength?\n",
    "\n",
    "Dustin Wong: Why do a bunch of the species have narrow fossil ranges?\n",
    "\n",
    "Hyein Kil: What do you hypothesize the diversification rate will look like after using PyRate?"
   ]
  },
  {
   "cell_type": "code",
   "execution_count": null,
   "metadata": {
    "collapsed": true
   },
   "outputs": [],
   "source": []
  }
 ],
 "metadata": {
  "anaconda-cloud": {},
  "kernelspec": {
   "display_name": "Python [default]",
   "language": "python",
   "name": "python3"
  },
  "language_info": {
   "codemirror_mode": {
    "name": "ipython",
    "version": 3
   },
   "file_extension": ".py",
   "mimetype": "text/x-python",
   "name": "python",
   "nbconvert_exporter": "python",
   "pygments_lexer": "ipython3",
   "version": "3.5.2"
  }
 },
 "nbformat": 4,
 "nbformat_minor": 2
}
